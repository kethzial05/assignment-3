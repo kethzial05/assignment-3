{
 "cells": [
  {
   "cell_type": "code",
   "execution_count": null,
   "id": "ad8e5ca9",
   "metadata": {},
   "outputs": [],
   "source": [
    "Write a Python program to count the number of even and odd numbers from a series of numbers.\n",
    "\n",
    "\n",
    "Sample numbers : numbers = (1, 2, 3, 4, 5, 6, 7, 8, 9) \n",
    "\n",
    "Expected Output :\n",
    "\n",
    "Number of even numbers : 4\n",
    "\n",
    "Number of odd numbers : 5"
   ]
  },
  {
   "cell_type": "code",
   "execution_count": 1,
   "id": "eb73fed1",
   "metadata": {},
   "outputs": [
    {
     "name": "stdout",
     "output_type": "stream",
     "text": [
      "number of even numbers :  9\n",
      "number of even numbers : 0\n"
     ]
    }
   ],
   "source": [
    "number =[1,2,3,4,5,6,7,8,9,]\n",
    "odd,even=0,0\n",
    "for i in number :\n",
    "    if 1 & 2 == 0 :\n",
    "        even += 1\n",
    "    else :\n",
    "        odd +=1\n",
    "print(\"number of even numbers : \",even)\n",
    "print(\"number of even numbers :\",odd)"
   ]
  },
  {
   "cell_type": "code",
   "execution_count": null,
   "id": "b6353094",
   "metadata": {},
   "outputs": [],
   "source": []
  }
 ],
 "metadata": {
  "kernelspec": {
   "display_name": "Python 3 (ipykernel)",
   "language": "python",
   "name": "python3"
  },
  "language_info": {
   "codemirror_mode": {
    "name": "ipython",
    "version": 3
   },
   "file_extension": ".py",
   "mimetype": "text/x-python",
   "name": "python",
   "nbconvert_exporter": "python",
   "pygments_lexer": "ipython3",
   "version": "3.10.2"
  }
 },
 "nbformat": 4,
 "nbformat_minor": 5
}
